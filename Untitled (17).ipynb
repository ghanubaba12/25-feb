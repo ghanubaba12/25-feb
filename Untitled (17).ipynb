{
 "cells": [
  {
   "cell_type": "code",
   "execution_count": null,
   "id": "491a2843-20fc-4a98-bc12-510bd1da6e57",
   "metadata": {},
   "outputs": [],
   "source": [
    "Consider following code to answer further questions:\n",
    "import pandas as pd\n",
    "course_name = [‘Data Science’, ‘Machine Learning’, ‘Big Data’, ‘Data Engineer’]\n",
    "duration = [2,3,6,4]\n",
    "df = pd.DataFrame(data = {‘course_name’ : course_name, ‘duration’ : duration})\n",
    "Q1. Write a code to print the data present in the second row of the dataframe, df.\n",
    "ans-\n",
    "You can use the iloc method of the DataFrame to select a row by its integer index. To print the second row of the df DataFrame, you can use the following code:\n",
    "\n",
    "scss\n",
    "Copy code\n",
    "print(df.iloc[1])\n",
    "This will print the data present in the second row of the DataFrame, including the course name and the duration. The iloc[1] expression selects the second row (since the integer index starts from 0)."
   ]
  },
  {
   "cell_type": "code",
   "execution_count": null,
   "id": "0fc39ca0-3305-4fb8-8067-187778c77e14",
   "metadata": {},
   "outputs": [],
   "source": []
  },
  {
   "cell_type": "code",
   "execution_count": 1,
   "id": "f97d84b4-aca3-403f-a946-b7342e224ab1",
   "metadata": {},
   "outputs": [
    {
     "name": "stdout",
     "output_type": "stream",
     "text": [
      "Object `pandas.DataFrame` not found.\n"
     ]
    }
   ],
   "source": [
    "Q2. What is the difference between the functions loc and iloc in pandas.DataFrame?\n",
    "ans-Both loc and iloc are used to select data from a Pandas DataFrame, but they differ in the way they specify the rows and columns to be selected.\n",
    "\n",
    "loc is used to select rows and columns by label. You can use row and column labels to select data using the loc function. The syntax for loc is df.loc[row_label, column_label]. For example, df.loc[2, 'duration'] would select the value in the 'duration' column of the row with the label '2'.\n",
    "\n",
    "iloc, on the other hand, is used to select rows and columns by integer index. You can use integer index positions to select data using the iloc function. The syntax for iloc is df.iloc[row_index, column_index]. For example, df.iloc[2, 1] would select the value in the second column of the third row of the DataFrame.\n",
    "\n",
    "In summary, loc is used for label-based indexing, while iloc is used for integer-based indexing."
   ]
  },
  {
   "cell_type": "code",
   "execution_count": null,
   "id": "b6bd3172-7f9c-44b3-ac5a-f5f2b98c0cbb",
   "metadata": {},
   "outputs": [],
   "source": [
    "Q3. Reindex the given dataframe using a variable, reindex = [3,0,1,2] and store it in the variable, new_df\n",
    "then find the output for both new_df.loc[2] and new_df.iloc[2].\n",
    "ans-\n",
    "To reindex the DataFrame df using the variable reindex = [3, 0, 1, 2], you can use the reindex method of the DataFrame as follows:\n",
    "\n",
    "css\n",
    "Copy code\n",
    "new_df = df.reindex(index=[3, 0, 1, 2])\n",
    "This will create a new DataFrame new_df with the rows reindexed according to the order specified in the reindex list.\n",
    "\n",
    "To find the output for new_df.loc[2] and new_df.iloc[2], you can use the following code:\n",
    "\n",
    "scss\n",
    "Copy code\n",
    "print(new_df.loc[2])\n",
    "print(new_df.iloc[2])\n",
    "The first line prints the row with label '2' in the new_df DataFrame, and the second line prints the row with integer index 2 in the new_df DataFrame.\n",
    "\n",
    "Note that since we have reindexed the rows of the DataFrame, the label and integer index for each row may have changed. The label and index '2' in the original df DataFrame may correspond to a different row in the new_df DataFrame.\n",
    "\n",
    "\n",
    "\n",
    "\n"
   ]
  },
  {
   "cell_type": "code",
   "execution_count": null,
   "id": "2ecb0ed9-a3f1-4c83-87cc-6b3f39ec7993",
   "metadata": {},
   "outputs": [],
   "source": [
    "Q4. Write a code to find the following statistical measurements for the above dataframe df1:\n",
    "(i) mean of each and every column present in the dataframe.\n",
    "(ii) standard deviation of column, ‘column_2’\n",
    "ans-\n",
    "To find the statistical measurements for the DataFrame df, you can use the mean and std methods of the DataFrame as follows:\n",
    "\n",
    "(i) To find the mean of each column in the DataFrame, you can use the mean method as follows:\n",
    "\n",
    "scss\n",
    "Copy code\n",
    "means = df.mean()\n",
    "print(means)\n",
    "This will print the mean of each column in the DataFrame.\n",
    "\n",
    "(ii) To find the standard deviation of the 'column_2' column in the DataFrame, you can use the std method as follows:\n",
    "\n",
    "scss\n",
    "Copy code\n",
    "std_dev = df['column_2'].std()\n",
    "print(std_dev)\n",
    "This will print the standard deviation of the 'column_2' column in the DataFrame. Note that you can replace 'column_2' with the name of any column you wish to find the standard deviation of.\n",
    "\n",
    "\n",
    "\n",
    "\n"
   ]
  },
  {
   "cell_type": "code",
   "execution_count": null,
   "id": "f677ee92-c92d-4d61-af11-b78cfc24a9bb",
   "metadata": {},
   "outputs": [],
   "source": [
    "Q5. Replace the data present in the second row of column, ‘column_2’ by a string variable then find the\n",
    "mean of column, column_2.\n",
    "If you are getting errors in executing it then explain why.\n",
    "[Hint: To replace the data use df1.loc[] and equate this to string data of your choice.]\n",
    "ans-\n",
    "To replace the data present in the second row of the 'column_2' column in the DataFrame df, you can use the loc method of the DataFrame as follows:\n",
    "\n",
    "arduino\n",
    "Copy code\n",
    "df.loc[1, 'column_2'] = 'string_data'\n",
    "This will replace the data in the second row of the 'column_2' column with the string 'string_data'. Note that since the data type of the column has been changed from numeric to string, you may get an error when you try to find the mean of the column using the mean method.\n",
    "\n",
    "To find the mean of the 'column_2' column after replacing the data in the second row, you can use the astype method to convert the column back to numeric data type, as follows:\n",
    "\n",
    "scss\n",
    "Copy code\n",
    "df['column_2'] = df['column_2'].astype(float)\n",
    "mean_col2 = df['column_2'].mean()\n",
    "print(mean_col2)\n",
    "This will first convert the 'column_2' column back to a float data type, and then find the mean of the column.\n",
    "\n",
    "\n",
    "\n",
    "\n"
   ]
  },
  {
   "cell_type": "code",
   "execution_count": 2,
   "id": "1933c5b8-9673-4a4e-ac4e-b7e19f768ad3",
   "metadata": {},
   "outputs": [
    {
     "ename": "SyntaxError",
     "evalue": "invalid syntax (2708219376.py, line 1)",
     "output_type": "error",
     "traceback": [
      "\u001b[0;36m  Cell \u001b[0;32mIn[2], line 1\u001b[0;36m\u001b[0m\n\u001b[0;31m    Q6. What do you understand about the windows function in pandas and list the types of windows\u001b[0m\n\u001b[0m             ^\u001b[0m\n\u001b[0;31mSyntaxError\u001b[0m\u001b[0;31m:\u001b[0m invalid syntax\n"
     ]
    }
   ],
   "source": [
    "Q6. What do you understand about the windows function in pandas and list the types of windows\n",
    "functions?\n",
    "ans-\n",
    "In Pandas, the rolling function can be used to apply a rolling window to a DataFrame or a Series. A rolling window is a fixed-size window that slides over the data and applies a function to the data within the window. This is useful for calculating moving averages, cumulative sums, and other rolling calculations.\n",
    "\n",
    "The rolling function has many options to control the size of the window, the function to apply, and how to handle missing data. Some common parameters of the rolling function are:\n",
    "\n",
    "window: the size of the rolling window, can be an integer or a timedelta object.\n",
    "min_periods: the minimum number of non-NA values required to compute the result.\n",
    "center: whether to label the output with the center of the window.\n",
    "The rolling function can be used with many different types of window functions, including:\n",
    "\n",
    "mean(): computes the rolling mean of the data within the window.\n",
    "sum(): computes the rolling sum of the data within the window.\n",
    "std(): computes the rolling standard deviation of the data within the window.\n",
    "min(): computes the rolling minimum of the data within the window.\n",
    "max(): computes the rolling maximum of the data within the window.\n",
    "median(): computes the rolling median of the data within the window.\n",
    "var(): computes the rolling variance of the data within the window.\n",
    "quantile(): computes the rolling quantile of the data within the window.\n",
    "There are many other window functions that can be used with the rolling function, and custom window functions can also be defined and used. The rolling function is a powerful tool for calculating rolling statistics and is commonly used in time series analysis and data preprocessing.\n",
    "\n",
    "\n",
    "\n",
    "\n"
   ]
  },
  {
   "cell_type": "code",
   "execution_count": null,
   "id": "cd987ca9-8f56-4f05-baca-d80bd01d1696",
   "metadata": {},
   "outputs": [],
   "source": []
  },
  {
   "cell_type": "code",
   "execution_count": 3,
   "id": "e442251a-2df6-456b-9afa-7783e3fe94d6",
   "metadata": {},
   "outputs": [
    {
     "ename": "SyntaxError",
     "evalue": "invalid syntax (2876615464.py, line 1)",
     "output_type": "error",
     "traceback": [
      "\u001b[0;36m  Cell \u001b[0;32mIn[3], line 1\u001b[0;36m\u001b[0m\n\u001b[0;31m    Q7. Write a code to print only the current month and year at the time of answering this question.\u001b[0m\n\u001b[0m              ^\u001b[0m\n\u001b[0;31mSyntaxError\u001b[0m\u001b[0;31m:\u001b[0m invalid syntax\n"
     ]
    }
   ],
   "source": [
    "Q7. Write a code to print only the current month and year at the time of answering this question.\n",
    "[Hint: Use pandas.datetime function]\n",
    "ans-\n",
    "To print the current month and year, you can use the datetime function from the datetime module in Python. Here is an example code snippet:\n",
    "\n",
    "python\n",
    "Copy code\n",
    "import pandas as pd\n",
    "from datetime import datetime\n",
    "\n",
    "now = datetime.now()\n",
    "current_month_year = pd.to_datetime(now.strftime('%Y-%m')).strftime('%B %Y')\n",
    "print(current_month_year)\n",
    "This code first imports the required modules, then gets the current date and time using the datetime.now() method. It then formats the date as a string using the strftime method, specifying the format as '%Y-%m' to get the year and month in the format 'YYYY-MM'. This string is then converted to a Pandas datetime object using the pd.to_datetime() function. Finally, the datetime object is formatted again using the strftime method to get the month and year in the format 'Month YYYY', and the result is printed to the console.\n",
    "\n",
    "\n",
    "\n"
   ]
  },
  {
   "cell_type": "code",
   "execution_count": null,
   "id": "a6e78b65-5841-4e0e-95ce-ba01ea089180",
   "metadata": {},
   "outputs": [],
   "source": []
  },
  {
   "cell_type": "code",
   "execution_count": 4,
   "id": "c5ba300c-1e48-4c55-81d6-715081abcefa",
   "metadata": {},
   "outputs": [
    {
     "ename": "SyntaxError",
     "evalue": "invalid syntax (3079463732.py, line 1)",
     "output_type": "error",
     "traceback": [
      "\u001b[0;36m  Cell \u001b[0;32mIn[4], line 1\u001b[0;36m\u001b[0m\n\u001b[0;31m    Q8. Write a Python program that takes in two dates as input (in the format YYYY-MM-DD) and\u001b[0m\n\u001b[0m              ^\u001b[0m\n\u001b[0;31mSyntaxError\u001b[0m\u001b[0;31m:\u001b[0m invalid syntax\n"
     ]
    }
   ],
   "source": [
    "Q8. Write a Python program that takes in two dates as input (in the format YYYY-MM-DD) and\n",
    "calculates the difference between them in days, hours, and minutes using Pandas time delta. The\n",
    "program should prompt the user to enter the dates and display the result.\n",
    "ans-\n"
   ]
  },
  {
   "cell_type": "code",
   "execution_count": null,
   "id": "6d879b5e-92f1-4011-97f9-6a53c668c2c8",
   "metadata": {},
   "outputs": [],
   "source": []
  },
  {
   "cell_type": "code",
   "execution_count": null,
   "id": "e3590ce8-f4ae-4537-929b-a8d101809607",
   "metadata": {},
   "outputs": [],
   "source": []
  },
  {
   "cell_type": "code",
   "execution_count": null,
   "id": "ad5afbb3-e367-4682-a97d-70afeae02c4d",
   "metadata": {},
   "outputs": [],
   "source": []
  },
  {
   "cell_type": "code",
   "execution_count": null,
   "id": "830221fa-f574-4cae-8e61-fb108f231a2e",
   "metadata": {},
   "outputs": [],
   "source": []
  },
  {
   "cell_type": "code",
   "execution_count": null,
   "id": "3a7188b8-c334-4312-83cc-f95f613ad39f",
   "metadata": {},
   "outputs": [],
   "source": []
  },
  {
   "cell_type": "code",
   "execution_count": null,
   "id": "1f1b427b-1757-4e73-98df-f4cca684b2aa",
   "metadata": {},
   "outputs": [],
   "source": []
  },
  {
   "cell_type": "code",
   "execution_count": null,
   "id": "a213df01-4dc5-4bb4-b878-b750a5617716",
   "metadata": {},
   "outputs": [],
   "source": []
  },
  {
   "cell_type": "code",
   "execution_count": null,
   "id": "5185d88e-0b79-4548-86f0-4897560af85e",
   "metadata": {},
   "outputs": [],
   "source": []
  }
 ],
 "metadata": {
  "kernelspec": {
   "display_name": "Python 3 (ipykernel)",
   "language": "python",
   "name": "python3"
  },
  "language_info": {
   "codemirror_mode": {
    "name": "ipython",
    "version": 3
   },
   "file_extension": ".py",
   "mimetype": "text/x-python",
   "name": "python",
   "nbconvert_exporter": "python",
   "pygments_lexer": "ipython3",
   "version": "3.10.8"
  }
 },
 "nbformat": 4,
 "nbformat_minor": 5
}
